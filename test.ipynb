{
 "cells": [
  {
   "cell_type": "code",
   "execution_count": 1,
   "metadata": {},
   "outputs": [],
   "source": [
    "import argparse\n",
    "import configparser\n",
    "import errno\n",
    "import json\n",
    "import os\n",
    "import pprint\n",
    "import time\n",
    "import typing\n",
    "from datetime import datetime, timedelta, timezone\n",
    "\n",
    "import requests"
   ]
  },
  {
   "cell_type": "code",
   "execution_count": 2,
   "metadata": {},
   "outputs": [],
   "source": [
    "def get_conversations_history(\n",
    "        token: str,\n",
    "        channel: str,\n",
    "        latest: float = 0,\n",
    "        limit: int = 100):\n",
    "\n",
    "    Conversations_History_API_URL = \"https://slack.com/api/conversations.history\"\n",
    "\n",
    "    params = {\n",
    "        'token': token,\n",
    "        'channel': channel,\n",
    "        \"limit\": limit,\n",
    "        \"latest\": latest}\n",
    "    r = requests.get(Conversations_History_API_URL, params=params)\n",
    "    json_data = r.json()\n",
    "    if json_data.get('ok', False) is False:\n",
    "        print(json_data)\n",
    "        raise Exception('FAILED TO GET CONVERSATIONS HISTORY!')\n",
    "    else:\n",
    "        return json_data\n",
    "\n",
    "\n",
    "def return_timestamp_movedbyday(diff: int = -1):\n",
    "    JST = timezone(timedelta(hours=+9), 'JST')\n",
    "    td_two_days_before = timedelta(days=diff)\n",
    "    today_at_midnight = datetime.now(JST).replace(\n",
    "        hour=0, minute=0, second=0, microsecond=0)\n",
    "    two_days_before = today_at_midnight + td_two_days_before\n",
    "    return two_days_before.timestamp()\n",
    "\n",
    "\n",
    "def delete_message(token: str, channel: str, ts: float):\n",
    "    Chat_Delete_API_URL = \"https://slack.com/api/chat.delete\"\n",
    "\n",
    "    params = {'token': token, 'channel': channel, \"ts\": ts}\n",
    "    r = requests.get(Chat_Delete_API_URL, params=params)\n",
    "    json_data = r.json()\n",
    "\n",
    "    if json_data.get('ok', False) is False:\n",
    "        print('message の削除に失敗')\n",
    "        print(json_data)"
   ]
  },
  {
   "cell_type": "code",
   "execution_count": 3,
   "metadata": {},
   "outputs": [],
   "source": [
    "config_ini = configparser.ConfigParser()\n",
    "config_ini_path = 'config.ini'\n",
    "\n",
    "if not os.path.exists(config_ini_path):\n",
    "    raise FileNotFoundError(\n",
    "        errno.ENOENT, os.strerror(\n",
    "            errno.ENOENT), config_ini_path)\n",
    "\n",
    "config_ini.read(config_ini_path, encoding='utf-8')\n",
    "\n",
    "read_default = config_ini['DEFAULT']\n",
    "Token = read_default.get('OAuth_Token')\n",
    "CHANNEL_ID = read_default.get('CHANNEL_ID')\n",
    "BOT_ID = read_default.get('BOT_ID')\n"
   ]
  },
  {
   "cell_type": "code",
   "execution_count": 11,
   "metadata": {},
   "outputs": [],
   "source": [
    "json_data = get_conversations_history(\n",
    "    Token, CHANNEL_ID, return_timestamp_movedbyday(-10))"
   ]
  },
  {
   "cell_type": "code",
   "execution_count": 12,
   "metadata": {},
   "outputs": [
    {
     "name": "stdout",
     "output_type": "stream",
     "text": [
      "0 msg del done\n"
     ]
    }
   ],
   "source": [
    "cnt = 0\n",
    "\n",
    "for i in json_data[\"messages\"]:\n",
    "    if 'bot_id' in i:\n",
    "        if i[\"bot_id\"] == BOT_ID:\n",
    "            # delete_message(Token, CHANNEL_ID, i[\"ts\"])\n",
    "            cnt += 1\n",
    "            pprint.pprint(i)\n",
    "print(f\"{cnt} msg del done\")"
   ]
  },
  {
   "cell_type": "code",
   "execution_count": 8,
   "metadata": {},
   "outputs": [
    {
     "data": {
      "text/plain": [
       "{'ok': True,\n",
       " 'latest': '1593097200.000000',\n",
       " 'messages': [{'type': 'message',\n",
       "   'subtype': 'bot_message',\n",
       "   'text': ':wave: *Welcome to the Google Calendar app for Slack!*',\n",
       "   'ts': '1592474979.000200',\n",
       "   'username': 'Google Calendar',\n",
       "   'bot_id': 'BJCGHAALB',\n",
       "   'attachments': [{'fallback': '268x149px image',\n",
       "     'image_url': 'https://a.slack-edge.com/interop/prod/img/calapp/img-status-gcal.png',\n",
       "     'image_width': 268,\n",
       "     'image_height': 149,\n",
       "     'image_bytes': 18548,\n",
       "     'text': '• Automatically update your Slack status based on your calendar.\\n• Join Google Hangouts, Zoom or Webex video call right from the event reminder.\\n• Respond to event invites &amp; get notified of time or location updates, right in Slack.\\n',\n",
       "     'title': 'With this app, you can...\\n',\n",
       "     'id': 1,\n",
       "     'mrkdwn_in': ['text', 'pretext']},\n",
       "    {'text': '*Connect your account to get started.*',\n",
       "     'id': 2,\n",
       "     'color': 'E8912D',\n",
       "     'actions': [{'id': '1',\n",
       "       'text': 'Connect Account',\n",
       "       'type': 'button',\n",
       "       'style': 'primary',\n",
       "       'url': 'https://slack.com/oauth/authorize?client_id=188160004832.475145156610&response_type=code&scope=bot%20commands%20users.profile%3Awrite&login_hint&redirect_uri=https%3A%2F%2Fslack.com%2Finterop%2Fgcalapp%2Fslack%2Foauth%2Fcallback&state=welcome_message&prompt&team=TD9V1JA9Z'}],\n",
       "     'mrkdwn_in': ['text', 'pretext'],\n",
       "     'fallback': '*Connect your account to get started.*'},\n",
       "    {'text': 'View the <https://slack.com/app-pages/google-calendar|Google Calendar homepage> to learn more.',\n",
       "     'id': 3,\n",
       "     'mrkdwn_in': ['text', 'pretext'],\n",
       "     'fallback': 'View the <https://slack.com/app-pages/google-calendar|Google Calendar homepage> to learn more.'}]},\n",
       "  {'type': 'message',\n",
       "   'subtype': 'bot_message',\n",
       "   'text': '*Admins: set up Google Calendar on behalf of your team*\\nAs an admin for Kawamlab, we wanted to let you know about a new feature designed to help increase adoption of calendar sync in Slack.\\n\\n*How it works:*\\n- G Suite administrators can now perform a <https://support.google.com/a/answer/172482?hl=en|domain wide install> of the Google Calendar app in any workspace where the app is installed in Slack.\\n- As an admin, you’re granting permission to the Google Calendar app in Slack on behalf of members on your team. This means that each individual in your workspace will have their account automatically connected to the app so they don’t need to complete the permissions process on their own. Without this, very few of your Slack users are likely to complete the permissions flow.\\n- After the domain wide auth is deployed, each person in your workspace can set personal preferences—like configuring notifications and syncing their status—or choose to disconnect their calendar from the app.\\n\\n*Get started* by visiting the Settings in the calendar app <slack://app?team=TD9V1JA9Z&amp;id=ADZ494LHY&amp;tab=home|home tab>\\n\\n️:information_source: <https://slack.com/help/articles/360047862573-Enable-domain-wide-authentication-for-calendar-apps-in-Slack|Learn more>',\n",
       "   'ts': '1592474972.000100',\n",
       "   'username': 'Google Calendar',\n",
       "   'bot_id': 'BJCGHAALB'}],\n",
       " 'has_more': False,\n",
       " 'pin_count': 0,\n",
       " 'channel_actions_ts': None,\n",
       " 'channel_actions_count': 0}"
      ]
     },
     "execution_count": 8,
     "metadata": {},
     "output_type": "execute_result"
    }
   ],
   "source": [
    "json_data"
   ]
  },
  {
   "cell_type": "code",
   "execution_count": null,
   "metadata": {},
   "outputs": [],
   "source": []
  }
 ],
 "metadata": {
  "kernelspec": {
   "display_name": "Python 3.7.3 64-bit",
   "language": "python",
   "name": "python37364bit3d079e996ccd4349894ed7c686b41899"
  },
  "language_info": {
   "codemirror_mode": {
    "name": "ipython",
    "version": 3
   },
   "file_extension": ".py",
   "mimetype": "text/x-python",
   "name": "python",
   "nbconvert_exporter": "python",
   "pygments_lexer": "ipython3",
   "version": "3.7.3"
  }
 },
 "nbformat": 4,
 "nbformat_minor": 4
}
